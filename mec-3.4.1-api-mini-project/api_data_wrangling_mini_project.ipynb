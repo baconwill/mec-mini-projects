{
 "cells": [
  {
   "cell_type": "markdown",
   "metadata": {},
   "source": [
    "This exercise will require you to pull some data from https://data.nasdaq.com/ (formerly Quandl API)."
   ]
  },
  {
   "cell_type": "markdown",
   "metadata": {},
   "source": [
    "As a first step, you will need to register a free account on the https://data.nasdaq.com/ website."
   ]
  },
  {
   "cell_type": "markdown",
   "metadata": {},
   "source": [
    "After you register, you will be provided with a unique API key, that you should store:\n",
    "\n",
    "*Note*: Use a `.env` file and put your key in there and `python-dotenv` to access it in this notebook. \n",
    "\n",
    "The code below uses a key that was used when generating this project but has since been deleted. Never submit your keys to source control. There is a `.env-example` file in this repository to illusrtate what you need. Copy that to a file called `.env` and use your own api key in that `.env` file. Make sure you also have a `.gitignore` file with a line for `.env` added to it. \n",
    "\n",
    "The standard Python gitignore is [here](https://github.com/github/gitignore/blob/master/Python.gitignore) you can just copy that. "
   ]
  },
  {
   "cell_type": "code",
   "execution_count": 8,
   "metadata": {},
   "outputs": [
    {
     "name": "stdout",
     "output_type": "stream",
     "text": [
      "ASszyZxeUfAhykSbMB-R\n"
     ]
    }
   ],
   "source": [
    "# get api key from your .env file\n",
    "#ASszyZxeUfAhykSbMB-R\n",
    "import os\n",
    "from dotenv import load_dotenv  # if missing this module, simply run `pip install python-dotenv`\n",
    "\n",
    "load_dotenv()\n",
    "API_KEY = os.getenv('NASDAQ_API_KEY')\n",
    "\n",
    "print(API_KEY)\n",
    "# type(API_KEY)"
   ]
  },
  {
   "cell_type": "markdown",
   "metadata": {},
   "source": [
    "Nasdaq Data has a large number of data sources, but, unfortunately, most of them require a Premium subscription. Still, there are also a good number of free datasets."
   ]
  },
  {
   "cell_type": "markdown",
   "metadata": {},
   "source": [
    "For this mini project, we will focus on equities data from the Frankfurt Stock Exhange (FSE), which is available for free. We'll try and analyze the stock prices of a company called Carl Zeiss Meditec, which manufactures tools for eye examinations, as well as medical lasers for laser eye surgery: https://www.zeiss.com/meditec/int/home.html. The company is listed under the stock ticker AFX_X."
   ]
  },
  {
   "cell_type": "markdown",
   "metadata": {},
   "source": [
    "You can find the detailed Nasdaq Data API instructions here: https://docs.data.nasdaq.com/docs/in-depth-usage"
   ]
  },
  {
   "cell_type": "markdown",
   "metadata": {},
   "source": [
    "While there is a dedicated Python package for connecting to the Nasdaq API, we would prefer that you use the *requests* package, which can be easily downloaded using *pip* or *conda*. You can find the documentation for the package here: http://docs.python-requests.org/en/master/ "
   ]
  },
  {
   "cell_type": "markdown",
   "metadata": {},
   "source": [
    "Finally, apart from the *requests* package, you are encouraged to not use any third party Python packages, such as *pandas*, and instead focus on what's available in the Python Standard Library (the *collections* module might come in handy: https://pymotw.com/3/collections/).\n",
    "Also, since you won't have access to DataFrames, you are encouraged to us Python's native data structures - preferably dictionaries, though some questions can also be answered using lists.\n",
    "You can read more on these data structures here: https://docs.python.org/3/tutorial/datastructures.html"
   ]
  },
  {
   "cell_type": "markdown",
   "metadata": {},
   "source": [
    "Keep in mind that the JSON responses you will be getting from the API map almost one-to-one to Python's dictionaries. Unfortunately, they can be very nested, so make sure you read up on indexing dictionaries in the documentation provided above."
   ]
  },
  {
   "cell_type": "code",
   "execution_count": 9,
   "metadata": {},
   "outputs": [],
   "source": [
    "# First, import the relevant modules\n",
    "import requests\n",
    "# import json"
   ]
  },
  {
   "cell_type": "markdown",
   "metadata": {},
   "source": [
    "Note: API's can change a bit with each version, for this exercise it is reccomended to use the nasdaq api at `https://data.nasdaq.com/api/v3/`. This is the same api as what used to be quandl so `https://www.quandl.com/api/v3/` should work too.\n",
    "\n",
    "Hint: We are looking for the `AFX_X` data on the `datasets/FSE/` dataset."
   ]
  },
  {
   "cell_type": "code",
   "execution_count": 10,
   "metadata": {},
   "outputs": [],
   "source": [
    "# Now, call the Nasdaq API and pull out a small sample of the data (only one day) to get a glimpse\n",
    "# into the JSON structure that will be returned\n",
    "url = 'https://data.nasdaq.com/api/v3/datasets/FSE/AFX_X/data.json'\n",
    "params = {'api_key' : API_KEY, 'end_date' : '2017-12-31', 'start_date' : '2017-01-01'}\n",
    "r = requests.get(url, params=params)\n",
    "# print(r.status_code)\n",
    "# print(r.url)\n",
    "data = r.json()"
   ]
  },
  {
   "cell_type": "code",
   "execution_count": 11,
   "metadata": {},
   "outputs": [
    {
     "name": "stdout",
     "output_type": "stream",
     "text": [
      "Lowest Opening Price: 34.0\n",
      "Highest Opening Price: 53.11\n"
     ]
    }
   ],
   "source": [
    "# Inspect the JSON structure of the object you created, and take note of how nested it is,\n",
    "# as well as the overall structure\n",
    "# 'column_names': ['Date', 'Open', 'High', 'Low', 'Close', 'Change', 'Traded Volume', 'Turnover', 'Last Price of the Day', 'Daily Traded Units', 'Daily Turnover']\n",
    "\n",
    "ds = list(data['dataset_data']['data'])\n",
    "data_dict = {}\n",
    "cl = list(data['dataset_data']['column_names'])\n",
    "\n",
    "for day in ds:\n",
    "    date = day[0]\n",
    "    d = {}\n",
    "    for i in range(1,len(day)):\n",
    "        d[cl[i]] = day[i]\n",
    "    data_dict[date] = d\n",
    "    \n",
    "openers = []\n",
    "\n",
    "for key in data_dict.keys():\n",
    "    if data_dict[key]['Open'] != None:\n",
    "        openers.append(data_dict[key]['Open'])\n",
    "\n",
    "print(\"Lowest Opening Price: \" + str(min(openers)))\n",
    "print(\"Highest Opening Price: \" + str(max(openers)))\n",
    "    \n",
    "    "
   ]
  },
  {
   "cell_type": "code",
   "execution_count": 12,
   "metadata": {},
   "outputs": [
    {
     "name": "stdout",
     "output_type": "stream",
     "text": [
      "Largest Change in a day: -1.6899999999999977\n"
     ]
    }
   ],
   "source": [
    "high_and_low = []\n",
    "for key in data_dict.keys():\n",
    "    if (data_dict[key]['Open'] != None) and (data_dict[key]['Close'] != None):\n",
    "        high_and_low.append((data_dict[key]['Close']) - (data_dict[key]['Open']))\n",
    "largest_change = max(high_and_low, key=abs)\n",
    "print(\"Largest Change in a day: \" + str(largest_change))"
   ]
  },
  {
   "cell_type": "code",
   "execution_count": 13,
   "metadata": {},
   "outputs": [
    {
     "name": "stdout",
     "output_type": "stream",
     "text": [
      "Largest change between any two days: -2.559999999999995\n"
     ]
    }
   ],
   "source": [
    "def day_conversion(m,d):\n",
    "    calendar_days = [31,28,31,30,31,30,31,31,30,31,30,31]\n",
    "    to_date = 0\n",
    "    for i in range(m-1):\n",
    "        to_date += calendar_days[i]\n",
    "    to_date += d\n",
    "    return to_date\n",
    "\n",
    "# Check if date2 follows date1\n",
    "def are_adjacent(date1, date2):\n",
    "    day1 = date1.split(\"-\")\n",
    "    day2 = date2.split(\"-\")\n",
    "    y1,m1,d1 = int(day1[0]), int(day1[1]), int(day1[2])\n",
    "    y2,m2,d2 = int(day2[0]), int(day2[1]), int(day2[2])\n",
    "    c1 = day_conversion(m1,d1)\n",
    "    c2 = day_conversion(m2,d2)\n",
    "    return c2 == (c1+1)\n",
    "\n",
    "\n",
    "keys = list(data_dict.keys())\n",
    "keys.reverse()\n",
    "two_days = []\n",
    "for d1 in range(len(keys)-1):\n",
    "    d2 = d1+1\n",
    "    if are_adjacent(keys[d1],keys[d2]):\n",
    "        if (data_dict[keys[d1]]['Close'] != None) and (data_dict[keys[d2]]['Close'] != None):\n",
    "            two_days.append((data_dict[keys[d2]]['Close']) - (data_dict[keys[d1]]['Close']))\n",
    "            \n",
    "largest_two_days = max(two_days, key=abs)\n",
    "print(\"Largest change between any two days: \" + str(largest_two_days))\n",
    "    "
   ]
  },
  {
   "cell_type": "code",
   "execution_count": 14,
   "metadata": {},
   "outputs": [
    {
     "name": "stdout",
     "output_type": "stream",
     "text": [
      "Average daily trading volume: 89124.33725490196\n"
     ]
    }
   ],
   "source": [
    "trade_vol = []\n",
    "for key in keys:\n",
    "    if data_dict[key]['Traded Volume'] != None:\n",
    "        trade_vol.append(data_dict[key]['Traded Volume'])\n",
    "avg_trade = sum(trade_vol) / len(trade_vol)\n",
    "print(\"Average daily trading volume: \" + str(avg_trade))"
   ]
  },
  {
   "cell_type": "markdown",
   "metadata": {},
   "source": [
    "These are your tasks for this mini project:\n",
    "\n",
    "1. Collect data from the Franfurt Stock Exchange, for the ticker AFX_X, for the whole year 2017 (keep in mind that the date format is YYYY-MM-DD).\n",
    "2. Convert the returned JSON object into a Python dictionary.\n",
    "3. Calculate what the highest and lowest opening prices were for the stock in this period.\n",
    "4. What was the largest change in any one day (based on High and Low price)?\n",
    "5. What was the largest change between any two days (based on Closing Price)?\n",
    "6. What was the average daily trading volume during this year?\n",
    "7. (Optional) What was the median trading volume during this year. (Note: you may need to implement your own function for calculating the median.)"
   ]
  },
  {
   "cell_type": "code",
   "execution_count": null,
   "metadata": {},
   "outputs": [],
   "source": []
  },
  {
   "cell_type": "code",
   "execution_count": null,
   "metadata": {},
   "outputs": [],
   "source": []
  }
 ],
 "metadata": {
  "interpreter": {
   "hash": "4885f37acae9217c235118400878352aafa7b76e66df698a1f601374f86939a7"
  },
  "kernelspec": {
   "display_name": "Python (MEC Mini-Projects)",
   "language": "python",
   "name": "mec-miniprojects"
  },
  "language_info": {
   "codemirror_mode": {
    "name": "ipython",
    "version": 3
   },
   "file_extension": ".py",
   "mimetype": "text/x-python",
   "name": "python",
   "nbconvert_exporter": "python",
   "pygments_lexer": "ipython3",
   "version": "3.7.11"
  }
 },
 "nbformat": 4,
 "nbformat_minor": 4
}
